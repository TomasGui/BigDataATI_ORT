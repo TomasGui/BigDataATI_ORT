{
 "cells": [
  {
   "cell_type": "code",
   "execution_count": 1,
   "id": "60471882-8040-4125-b056-0761a6453193",
   "metadata": {},
   "outputs": [],
   "source": [
    "#importacion de paquetes \n",
    "import pandas as pd \n",
    "import matplotlib.pyplot as plt\n",
    "import os\n",
    "from geopy.geocoders import Nominatim\n",
    "#Crear objeto nomination\n",
    "geo = Nominatim(user_agent=\"TestORT\")"
   ]
  },
  {
   "cell_type": "code",
   "execution_count": 2,
   "id": "05d7689c-afda-4820-aadc-d6edca7c4a66",
   "metadata": {},
   "outputs": [],
   "source": [
    "#Data Sets\n",
    "#Data Set Drivers \n",
    "df_drivers = pd.read_csv(\"input_data/drivers.csv\") \n",
    "#Data Set Fast test Laps \n",
    "df_fastest_laps = pd.read_csv(\"input_data/fastest_laps.csv\") \n",
    "#Data Set Teams\n",
    "df_teams = pd.read_csv(\"input_data/teams.csv\")\n",
    "#Data Set Winners\n",
    "df_winners = pd.read_csv(\"./input_data/winners.csv\")\n",
    "#Data Set Grand Prix - Con localizaciones \n",
    "df_grand_prix_location  = pd.read_csv(\"input_data/grand_prix_locations.csv\") \n",
    "#Data Set Countries Location - Con referencia al codigo de PAIS \n",
    "df_countries_location =pd.read_csv(\"input_data/country_locations.csv\") "
   ]
  },
  {
   "cell_type": "code",
   "execution_count": 3,
   "id": "60eda03f-5f11-4533-8fe5-ee7d06730259",
   "metadata": {},
   "outputs": [
    {
     "name": "stdout",
     "output_type": "stream",
     "text": [
      " Drivers Columns ['Pos', 'Driver', 'Nationality', 'Car', 'PTS', 'Name Code']\n",
      " Test Laps Columns ['Grand Prix', 'Driver', 'Car', 'Time', 'Name Code']\n",
      " Teams Columns ['Pos', 'Team', 'PTS']\n",
      " Winners Columns ['Grand Prix', 'Date', 'Winner', 'Car', 'Laps', 'Time', 'Name Code']\n"
     ]
    }
   ],
   "source": [
    "#Columnas prestentes por cada Data Set\n",
    "print(f\" Drivers Columns {df_drivers.columns.to_list()}\") \n",
    "print(f\" Test Laps Columns {df_fastest_laps.columns.to_list()}\")\n",
    "print(f\" Teams Columns {df_teams.columns.to_list()}\")\n",
    "print(f\" Winners Columns {df_winners.columns.to_list()}\")"
   ]
  },
  {
   "cell_type": "code",
   "execution_count": 4,
   "id": "a4da4cc8-7086-4850-8be1-b2051ede2ed3",
   "metadata": {},
   "outputs": [
    {
     "name": "stdout",
     "output_type": "stream",
     "text": [
      "Tipos de datos - Drivers\n",
      "------------------------\n",
      "Pos             object\n",
      "Driver          object\n",
      "Nationality     object\n",
      "Car             object\n",
      "PTS            float64\n",
      "Name Code       object\n",
      "dtype: object\n",
      "Tipos de datos - Fast Test Laps\n",
      "------------------------\n",
      "Grand Prix    object\n",
      "Driver        object\n",
      "Car           object\n",
      "Time          object\n",
      "Name Code     object\n",
      "dtype: object\n",
      "Tipos de datos - Teams\n",
      "------------------------\n",
      "Pos      object\n",
      "Team     object\n",
      "PTS     float64\n",
      "dtype: object\n",
      "Tipos de datos - Winners\n",
      "------------------------\n",
      "Grand Prix     object\n",
      "Date           object\n",
      "Winner         object\n",
      "Car            object\n",
      "Laps          float64\n",
      "Time           object\n",
      "Name Code      object\n",
      "dtype: object\n"
     ]
    }
   ],
   "source": [
    "#Tipos de datos\n",
    "print(\"Tipos de datos - Drivers\")\n",
    "print(\"------------------------\")\n",
    "print(df_drivers.dtypes)\n",
    "print(\"Tipos de datos - Fast Test Laps\")\n",
    "print(\"------------------------\")\n",
    "print(df_fastest_laps.dtypes)\n",
    "print(\"Tipos de datos - Teams\")\n",
    "print(\"------------------------\")\n",
    "print(df_teams.dtypes)\n",
    "print(\"Tipos de datos - Winners\")\n",
    "print(\"------------------------\")\n",
    "print(df_winners.dtypes)"
   ]
  },
  {
   "cell_type": "code",
   "execution_count": 5,
   "id": "74265ec2-5827-4d9b-933a-d3f09c84a89a",
   "metadata": {},
   "outputs": [
    {
     "name": "stdout",
     "output_type": "stream",
     "text": [
      "Fast Test Laps \n",
      "Columnas    NULL\n",
      "Grand Prix    0\n",
      "Driver        0\n",
      "Car           0\n",
      "Time          1\n",
      "Name Code     0\n",
      "dtype: int64\n",
      "\n",
      "\n",
      "Teams\n",
      "Columnas NULL\n",
      "Pos     0\n",
      "Team    0\n",
      "PTS     0\n",
      "dtype: int64\n",
      "\n",
      "\n",
      "Winners\n",
      "Columnas    NULL\n",
      "Grand Prix    0\n",
      "Date          0\n",
      "Winner        0\n",
      "Car           0\n",
      "Laps          3\n",
      "Time          3\n",
      "Name Code     0\n",
      "dtype: int64\n",
      "\n",
      "\n",
      "Drivers\n",
      "Columnas     NULL\n",
      "Pos             0\n",
      "Driver          0\n",
      "Nationality     0\n",
      "Car            11\n",
      "PTS             0\n",
      "Name Code       0\n",
      "dtype: int64\n"
     ]
    }
   ],
   "source": [
    "#Analisis de la cantida de Nulos y Duplicados en los data Set\n",
    "#Nulos \n",
    "print(\"Fast Test Laps \")\n",
    "print(\"Columnas    NULL\")\n",
    "print(df_fastest_laps.isnull().sum())\n",
    "print(\"\\n\")\n",
    "print(\"Teams\")\n",
    "print(\"Columnas NULL\")\n",
    "print(df_teams.isnull().sum())\n",
    "print(\"\\n\")\n",
    "print(\"Winners\")\n",
    "print(\"Columnas    NULL\")\n",
    "print(df_winners.isnull().sum())\n",
    "print(\"\\n\")\n",
    "print(\"Drivers\")\n",
    "print(\"Columnas     NULL\")\n",
    "print(df_drivers.isnull().sum())"
   ]
  },
  {
   "cell_type": "code",
   "execution_count": 6,
   "id": "737f9d69-50b2-4fe6-82fb-5dbed71ba05a",
   "metadata": {},
   "outputs": [
    {
     "name": "stdout",
     "output_type": "stream",
     "text": [
      " Cantidad de Duplicados DF Drivers : 6\n",
      " Cantidad de Duplicados DF Fast Test Laps : 0\n",
      " Cantidad de Duplicados DF Teams : 0\n",
      " Cantidad de Duplicados DF Winners : 0\n"
     ]
    }
   ],
   "source": [
    "#Duplicados\n",
    "print(f\" Cantidad de Duplicados DF Drivers : {df_drivers.duplicated().sum()}\")\n",
    "print(f\" Cantidad de Duplicados DF Fast Test Laps : {df_fastest_laps.duplicated().sum()}\")\n",
    "print(f\" Cantidad de Duplicados DF Teams : {df_fastest_laps.duplicated().sum()}\")\n",
    "print(f\" Cantidad de Duplicados DF Winners : {df_fastest_laps.duplicated().sum()}\")"
   ]
  },
  {
   "cell_type": "code",
   "execution_count": 7,
   "id": "8e23f411-d020-4c48-83b8-59b093bae20d",
   "metadata": {},
   "outputs": [],
   "source": [
    "#Limpieza de datos\n",
    "#Drivers\n",
    "#En comun acuerdo no se van a borrar todos los valores \n",
    "#Rellenar los nulos con Car --> 'GENERIC'\n",
    "df_drivers.fillna('GENERIC', inplace=True)\n",
    "df_drivers.drop_duplicates(inplace=True)\n",
    "\n",
    "#Corregir codigos de pais ISO 3166-1 alfa-3\n",
    "df_drivers.loc[df_drivers['Nationality'] == 'GER', 'Nationality'] = 'DEU'\n",
    "df_drivers.loc[df_drivers['Nationality'] == 'RSA', 'Nationality'] = 'ZAF'\n",
    "df_drivers.loc[df_drivers['Nationality'] == 'RHO', 'Nationality'] = 'ZWE'\n",
    "df_drivers.loc[df_drivers['Nationality'] == 'RAF', 'Nationality'] = 'RUS'\n",
    "\n",
    "#Fast Test Lap\n",
    "# Eliminar registros con valores nulos y dulicados\n",
    "df_fastest_laps = df_fastest_laps.dropna()\n",
    "df_fastest_laps = df_fastest_laps.drop_duplicates()\n",
    "\n",
    "#Teams\n",
    "#NO REQUIERE LIMPIEZA de datos no hay valores nulos ni duplicados\n",
    "df_teams = df_teams.dropna()\n",
    "df_teams = df_teams.drop_duplicates()\n",
    "\n",
    "#Winners\n",
    "df_winners = df_winners.dropna()\n",
    "df_winners = df_winners.drop_duplicates()"
   ]
  },
  {
   "cell_type": "code",
   "execution_count": 8,
   "id": "1e04c716-1506-44a6-9ab6-bccd070b08e4",
   "metadata": {},
   "outputs": [
    {
     "name": "stdout",
     "output_type": "stream",
     "text": [
      " DF Drivers Cantidad filas : 1655 , columnas 6 \n",
      " DF Fast Test Laps Cantidad filas : 1105 , columnas 5 \n",
      " DF Teams Cantidad filas : 684 , columnas 3 \n",
      " DF Winner Cantidad filas : 1107 , columnas 7 \n"
     ]
    }
   ],
   "source": [
    "#Cantidad de filas y columnas \n",
    "cantidad_filas_columnas = df_drivers.shape\n",
    "print(f\" DF Drivers Cantidad filas : {cantidad_filas_columnas[0]} , columnas {cantidad_filas_columnas[1]} \") \n",
    "cantidad_filas_columnas = df_fastest_laps.shape\n",
    "print(f\" DF Fast Test Laps Cantidad filas : {cantidad_filas_columnas[0]} , columnas {cantidad_filas_columnas[1]} \") \n",
    "cantidad_filas_columnas = df_teams.shape\n",
    "print(f\" DF Teams Cantidad filas : {cantidad_filas_columnas[0]} , columnas {cantidad_filas_columnas[1]} \") \n",
    "cantidad_filas_columnas = df_winners.shape\n",
    "print(f\" DF Winner Cantidad filas : {cantidad_filas_columnas[0]} , columnas {cantidad_filas_columnas[1]} \") "
   ]
  },
  {
   "cell_type": "code",
   "execution_count": 9,
   "id": "967a66ad-62ba-42c5-8d34-fa63e067068e",
   "metadata": {},
   "outputs": [
    {
     "name": "stdout",
     "output_type": "stream",
     "text": [
      "         Pos             Driver Nationality      Car          PTS Name Code\n",
      "count   1655               1655        1655     1655  1655.000000      1655\n",
      "unique    29                399          36      205          NaN       293\n",
      "top       18  Fernando  Alonso          GBR  Ferrari          NaN       HIL\n",
      "freq      98                 20         298      204          NaN        28\n",
      "mean     NaN                NaN         NaN      NaN    31.049849       NaN\n",
      "std      NaN                NaN         NaN      NaN    60.417595       NaN\n",
      "min      NaN                NaN         NaN      NaN     0.000000       NaN\n",
      "25%      NaN                NaN         NaN      NaN     3.000000       NaN\n",
      "50%      NaN                NaN         NaN      NaN     9.000000       NaN\n",
      "75%      NaN                NaN         NaN      NaN    31.000000       NaN\n",
      "max      NaN                NaN         NaN      NaN   575.000000       NaN\n",
      "           Grand Prix                Driver      Car      Time Name Code\n",
      "count            1105                  1105     1105      1105      1105\n",
      "unique             53                   134       83      1078       122\n",
      "top     Great Britain  Michael  Schumacher   Ferrari  1:40.400       MSC\n",
      "freq               74                    76      258         3        76\n",
      "        Pos     Team         PTS\n",
      "count   684      684  684.000000\n",
      "unique   17      180         NaN\n",
      "top       3  Ferrari         NaN\n",
      "freq     67       65         NaN\n",
      "mean    NaN      NaN   70.730994\n",
      "std     NaN      NaN  126.235934\n",
      "min     NaN      NaN    0.000000\n",
      "25%     NaN      NaN    7.000000\n",
      "50%     NaN      NaN   26.000000\n",
      "75%     NaN      NaN   71.000000\n",
      "max     NaN      NaN  860.000000\n",
      "           Grand Prix        Date            Winner      Car         Laps  \\\n",
      "count            1107        1107              1107     1107  1107.000000   \n",
      "unique             53        1107               113       63          NaN   \n",
      "top     Great Britain  1950-05-13  Lewis  Hamilton   Ferrari          NaN   \n",
      "freq               74           1               103      244          NaN   \n",
      "mean              NaN         NaN               NaN      NaN    64.654020   \n",
      "std               NaN         NaN               NaN      NaN    20.267526   \n",
      "min               NaN         NaN               NaN      NaN     1.000000   \n",
      "25%               NaN         NaN               NaN      NaN    54.000000   \n",
      "50%               NaN         NaN               NaN      NaN    65.000000   \n",
      "75%               NaN         NaN               NaN      NaN    72.000000   \n",
      "max               NaN         NaN               NaN      NaN   200.000000   \n",
      "\n",
      "               Time Name Code  \n",
      "count          1107      1107  \n",
      "unique         1106       107  \n",
      "top     1:43:16.900       HAM  \n",
      "freq              2       103  \n",
      "mean            NaN       NaN  \n",
      "std             NaN       NaN  \n",
      "min             NaN       NaN  \n",
      "25%             NaN       NaN  \n",
      "50%             NaN       NaN  \n",
      "75%             NaN       NaN  \n",
      "max             NaN       NaN  \n"
     ]
    }
   ],
   "source": [
    "# Descripcion de los data frame\n",
    "print(df_drivers.describe(include='all'))\n",
    "print(df_fastest_laps.describe(include='all'))\n",
    "print(df_teams.describe(include='all'))\n",
    "print(df_winners.describe(include='all'))"
   ]
  },
  {
   "cell_type": "code",
   "execution_count": 10,
   "id": "f213f28b-9b20-4130-b666-46d60a33f8ee",
   "metadata": {},
   "outputs": [
    {
     "name": "stdout",
     "output_type": "stream",
     "text": [
      " Drivers - Tiene algun NULO ? : False , Tiene DUPLICADOS ? : False \n",
      " Fast Test Laps - Tiene algun NULO ? : False , Tiene DUPLICADOS ? : False \n",
      " Teams - Tiene algun NULO ? : False , Tiene DUPLICADOS ? : False \n",
      " Winners- Tiene algun NULO ? : False , Tiene DUPLICADOS ? : False \n"
     ]
    }
   ],
   "source": [
    "#Validar datos NULO y DUPLICADOS\n",
    "#VALIDAR , se ESPERA que todo sea FALSE\n",
    "print(f\" Drivers - Tiene algun NULO ? : {df_drivers.isnull().values.any()} , Tiene DUPLICADOS ? : {df_drivers.duplicated().any()} \") \n",
    "print(f\" Fast Test Laps - Tiene algun NULO ? : {df_fastest_laps.isnull().values.any()} , Tiene DUPLICADOS ? : {df_fastest_laps.duplicated().any()} \") \n",
    "print(f\" Teams - Tiene algun NULO ? : {df_teams.isnull().values.any()} , Tiene DUPLICADOS ? : {df_teams.duplicated().any()} \") \n",
    "print(f\" Winners- Tiene algun NULO ? : {df_winners.isnull().values.any()} , Tiene DUPLICADOS ? : {df_winners.duplicated().any()} \") "
   ]
  },
  {
   "cell_type": "code",
   "execution_count": 11,
   "id": "9c543d54-3243-44f4-8889-ba1d0f39994d",
   "metadata": {},
   "outputs": [],
   "source": [
    "#Hacer el JOIN o MERGE de los Data Set de Fast Test Laps, Winners y Grand Prix Location\n",
    "#Se agrega una Data frame externo a lo previsto para agregar ubicacion \n",
    "df_fastest_laps_completo = pd.merge(df_fastest_laps, df_grand_prix_location, on='Grand Prix', how='left')\n",
    "df_winners_completo = pd.merge(df_winners, df_grand_prix_location, on='Grand Prix', how='left')\n",
    "#Hacer el JOIN o MERGE de los Data Set de Drivers y countries Location\n",
    "df_drivers_completo = pd.merge(df_drivers, df_countries_location, on='Nationality', how='left')"
   ]
  },
  {
   "cell_type": "code",
   "execution_count": 12,
   "id": "03ba445e-d2f7-4d43-9af9-ba3aeeaf572b",
   "metadata": {},
   "outputs": [],
   "source": [
    "def guardar_csv(df , nombre_archivo) : \n",
    "    try:\n",
    "        #Nombre carperta de salida\n",
    "        salida = \"/output_data\"\n",
    "        # Especificar la ruta y el nombre del archivo \n",
    "        ruta_archivo = os.path.join(os.getcwd()+salida, nombre_archivo+'.csv') \n",
    "        # Crear directorios si no existen \n",
    "        os.makedirs(os.path.dirname(ruta_archivo), exist_ok=True) \n",
    "        # Guardar el DataFrame en un archivo CSV \n",
    "        df.to_csv(ruta_archivo, sep=',', index=False, header=True, encoding='utf-8') \n",
    "        print(f'DataFrame guardado en {ruta_archivo} con EXITO')\n",
    "    except Exception as e:\n",
    "        # Código para manejar cualquier excepción\n",
    "        print(f\"Ha ocurrido un error: {e}\")"
   ]
  },
  {
   "cell_type": "code",
   "execution_count": 13,
   "id": "fca96811-0012-4d24-aaf5-9e0878e409cf",
   "metadata": {},
   "outputs": [
    {
     "name": "stdout",
     "output_type": "stream",
     "text": [
      "DataFrame guardado en C:\\Users\\Usuario\\Desktop\\ORT\\Semestre 5\\ATI - BIG DATA\\Obligatorio/output_data\\drivers_clean.csv con EXITO\n",
      "DataFrame guardado en C:\\Users\\Usuario\\Desktop\\ORT\\Semestre 5\\ATI - BIG DATA\\Obligatorio/output_data\\fastest_laps_clean.csv con EXITO\n",
      "DataFrame guardado en C:\\Users\\Usuario\\Desktop\\ORT\\Semestre 5\\ATI - BIG DATA\\Obligatorio/output_data\\teams_clean.csv con EXITO\n",
      "DataFrame guardado en C:\\Users\\Usuario\\Desktop\\ORT\\Semestre 5\\ATI - BIG DATA\\Obligatorio/output_data\\winners_clean.csv con EXITO\n"
     ]
    }
   ],
   "source": [
    "#Guardar archivos\n",
    "guardar_csv(df_drivers_completo,\"drivers_clean\")\n",
    "guardar_csv(df_fastest_laps_completo ,\"fastest_laps_clean\")\n",
    "guardar_csv(df_teams ,\"teams_clean\")\n",
    "guardar_csv(df_winners_completo, \"winners_clean\")"
   ]
  },
  {
   "cell_type": "code",
   "execution_count": null,
   "id": "72946e0e-527a-47fb-bc3f-f6a3318bb79f",
   "metadata": {},
   "outputs": [],
   "source": []
  }
 ],
 "metadata": {
  "kernelspec": {
   "display_name": "Python 3 (ipykernel)",
   "language": "python",
   "name": "python3"
  },
  "language_info": {
   "codemirror_mode": {
    "name": "ipython",
    "version": 3
   },
   "file_extension": ".py",
   "mimetype": "text/x-python",
   "name": "python",
   "nbconvert_exporter": "python",
   "pygments_lexer": "ipython3",
   "version": "3.11.7"
  }
 },
 "nbformat": 4,
 "nbformat_minor": 5
}
